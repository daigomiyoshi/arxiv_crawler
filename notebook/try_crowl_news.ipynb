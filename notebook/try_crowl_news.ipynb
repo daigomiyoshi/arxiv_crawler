{
 "cells": [
  {
   "cell_type": "code",
   "execution_count": 136,
   "metadata": {},
   "outputs": [],
   "source": [
    "# import pandas as pd\n",
    "import json\n",
    "import feedparser\n",
    "from urllib.parse import urlencode\n",
    "import datetime\n",
    "from dateutil.relativedelta import relativedelta\n",
    "from googletrans import Translator"
   ]
  },
  {
   "cell_type": "code",
   "execution_count": 214,
   "metadata": {},
   "outputs": [],
   "source": [
    "import requests\n",
    "url = (\n",
    "    'http://newsapi.org/v2/everything?'\n",
    "    'q=\\'data science\\'&'\n",
    "#     'from=2020-06-01&'\n",
    "#     'country=en&'\n",
    "    'sortBy=publishedAt&'\n",
    "    'pageSize=5&'\n",
    "    'apiKey=ce02b128e33f4abca6a75118e73780fc'\n",
    "    \n",
    ")"
   ]
  },
  {
   "cell_type": "code",
   "execution_count": 215,
   "metadata": {
    "scrolled": true
   },
   "outputs": [
    {
     "data": {
      "text/plain": [
       "<Response [200]>"
      ]
     },
     "execution_count": 215,
     "metadata": {},
     "output_type": "execute_result"
    }
   ],
   "source": [
    "response = requests.get(url)\n",
    "response"
   ]
  },
  {
   "cell_type": "code",
   "execution_count": 216,
   "metadata": {},
   "outputs": [
    {
     "data": {
      "text/plain": [
       "5"
      ]
     },
     "execution_count": 216,
     "metadata": {},
     "output_type": "execute_result"
    }
   ],
   "source": [
    "results = json.loads(response.text)['articles']\n",
    "len(results)"
   ]
  },
  {
   "cell_type": "code",
   "execution_count": 217,
   "metadata": {},
   "outputs": [
    {
     "data": {
      "text/plain": [
       "{'source': {'id': None, 'name': 'Macupdate.com'},\n",
       " 'author': None,\n",
       " 'title': 'RapidMiner Studio 9.7.0 - Comprehensive data science platform with visual workflow design and full automation.',\n",
       " 'description': 'RapidMiner Studio is a comprehensive data science platform with visual workflow design and full automation\\n\\nVisual Workflow Designer\\nIncrease productivity across the entire data science team, from analysts to experts\\n\\nConnect to Any Data Source\\nWork with all …',\n",
       " 'url': 'https://www.macupdate.com/app/mac/62534/rapidminer-studio',\n",
       " 'urlToImage': None,\n",
       " 'publishedAt': '2020-06-05T07:52:08Z',\n",
       " 'content': None}"
      ]
     },
     "execution_count": 217,
     "metadata": {},
     "output_type": "execute_result"
    }
   ],
   "source": [
    "results[0]"
   ]
  },
  {
   "cell_type": "code",
   "execution_count": 219,
   "metadata": {
    "scrolled": true
   },
   "outputs": [
    {
     "name": "stdout",
     "output_type": "stream",
     "text": [
      "Chinese Debates on the Military Utility of Artificial Intelligence\n",
      "https://warontherocks.com/2020/06/chinese-debates-on-the-military-utility-of-artificial-intelligence/\n",
      "2020-06-05T07:45:49Z\n"
     ]
    }
   ],
   "source": [
    "print(results[1]['title'])\n",
    "print(results[1]['url'])\n",
    "print(results[1]['publishedAt'])"
   ]
  },
  {
   "cell_type": "code",
   "execution_count": 316,
   "metadata": {},
   "outputs": [],
   "source": [
    "root_url = 'https://news.google.com/rss/search?'\n",
    "\n",
    "keywords = ['data science', 'machine learning']\n",
    "language = 'en'\n",
    "sortBy='publishedAt'\n",
    "# data_from='2020-5-1'\n",
    "# data_to='2020-5-10'\n",
    "data_from='6/1/2020'\n",
    "data_to='6/3/2020'"
   ]
  },
  {
   "cell_type": "code",
   "execution_count": 317,
   "metadata": {},
   "outputs": [],
   "source": [
    "q = keywords[0]"
   ]
  },
  {
   "cell_type": "code",
   "execution_count": 318,
   "metadata": {},
   "outputs": [
    {
     "data": {
      "text/plain": [
       "'q=data+science&language=en&sortBy=publishedAt&cd_min=6%2F1%2F2020&cd_max=6%2F3%2F2020'"
      ]
     },
     "execution_count": 318,
     "metadata": {},
     "output_type": "execute_result"
    }
   ],
   "source": [
    "url_args = urlencode({\n",
    "    \"q\": q,\n",
    "    \"language\": language,\n",
    "    \"sortBy\": sortBy,\n",
    "    \"cd_min\": data_from,\n",
    "    \"cd_max\": data_to,\n",
    "})\n",
    "url_args"
   ]
  },
  {
   "cell_type": "code",
   "execution_count": 319,
   "metadata": {},
   "outputs": [],
   "source": [
    "results = feedparser.parse(root_url + url_args)"
   ]
  },
  {
   "cell_type": "code",
   "execution_count": 320,
   "metadata": {},
   "outputs": [
    {
     "data": {
      "text/plain": [
       "9"
      ]
     },
     "execution_count": 320,
     "metadata": {},
     "output_type": "execute_result"
    }
   ],
   "source": [
    "len(results)"
   ]
  },
  {
   "cell_type": "code",
   "execution_count": 321,
   "metadata": {},
   "outputs": [
    {
     "data": {
      "text/plain": [
       "{'title': 'UT Austin Launches an Online Master’s in Data Science for $10,000 on edX.org - IBL News',\n",
       " 'title_detail': {'type': 'text/plain',\n",
       "  'language': None,\n",
       "  'base': 'https://news.google.com/rss/search?q=data+science&language=en&sortBy=publishedAt&cd_min=6/1/2020&cd_max=6/3/2020&hl=en-US&gl=US&ceid=US:en',\n",
       "  'value': 'UT Austin Launches an Online Master’s in Data Science for $10,000 on edX.org - IBL News'},\n",
       " 'links': [{'rel': 'alternate',\n",
       "   'type': 'text/html',\n",
       "   'href': 'https://iblnews.org/ut-austin-launches-an-online-master-in-data-science-for-10000-on-edx-org/'}],\n",
       " 'link': 'https://iblnews.org/ut-austin-launches-an-online-master-in-data-science-for-10000-on-edx-org/',\n",
       " 'id': 'CBMiXWh0dHBzOi8vaWJsbmV3cy5vcmcvdXQtYXVzdGluLWxhdW5jaGVzLWFuLW9ubGluZS1tYXN0ZXItaW4tZGF0YS1zY2llbmNlLWZvci0xMDAwMC1vbi1lZHgtb3JnL9IBYWh0dHBzOi8vaWJsbmV3cy5vcmcvdXQtYXVzdGluLWxhdW5jaGVzLWFuLW9ubGluZS1tYXN0ZXItaW4tZGF0YS1zY2llbmNlLWZvci0xMDAwMC1vbi1lZHgtb3JnL2FtcC8',\n",
       " 'guidislink': False,\n",
       " 'published': 'Fri, 05 Jun 2020 04:00:00 GMT',\n",
       " 'published_parsed': time.struct_time(tm_year=2020, tm_mon=6, tm_mday=5, tm_hour=4, tm_min=0, tm_sec=0, tm_wday=4, tm_yday=157, tm_isdst=0),\n",
       " 'summary': '<a href=\"https://iblnews.org/ut-austin-launches-an-online-master-in-data-science-for-10000-on-edx-org/\" target=\"_blank\">UT Austin Launches an Online Master’s in Data Science for $10,000 on edX.org</a>&nbsp;&nbsp;<font color=\"#6f6f6f\">IBL News</font>',\n",
       " 'summary_detail': {'type': 'text/html',\n",
       "  'language': None,\n",
       "  'base': 'https://news.google.com/rss/search?q=data+science&language=en&sortBy=publishedAt&cd_min=6/1/2020&cd_max=6/3/2020&hl=en-US&gl=US&ceid=US:en',\n",
       "  'value': '<a href=\"https://iblnews.org/ut-austin-launches-an-online-master-in-data-science-for-10000-on-edx-org/\" target=\"_blank\">UT Austin Launches an Online Master’s in Data Science for $10,000 on edX.org</a>&nbsp;&nbsp;<font color=\"#6f6f6f\">IBL News</font>'},\n",
       " 'source': {'href': 'https://iblnews.org', 'title': 'IBL News'}}"
      ]
     },
     "execution_count": 321,
     "metadata": {},
     "output_type": "execute_result"
    }
   ],
   "source": [
    "results['entries'][4]"
   ]
  },
  {
   "cell_type": "code",
   "execution_count": null,
   "metadata": {},
   "outputs": [],
   "source": []
  },
  {
   "cell_type": "code",
   "execution_count": 263,
   "metadata": {},
   "outputs": [],
   "source": [
    "from GoogleNews import GoogleNews\n",
    "googlenews = GoogleNews()"
   ]
  },
  {
   "cell_type": "code",
   "execution_count": 269,
   "metadata": {
    "scrolled": true
   },
   "outputs": [
    {
     "data": {
      "text/plain": [
       "[{'title': 'The 7 Habits Of Good Data Scientists',\n",
       "  'media': 'Forbes',\n",
       "  'date': '2020/05/01',\n",
       "  'desc': \"Data science is not necessarily one single discipline, skillset or methodology. This is why data science is always said to be an 'interdisciplinary branch' of science that combines mathematics, human behavioral analysis and workflow studies,\\xa0...\",\n",
       "  'link': 'https://www.forbes.com/sites/adrianbridgwater/2020/05/01/the-7-habits-of-good-data-scientists/',\n",
       "  'img': 'https://encrypted-tbn0.gstatic.com/images?q=tbn:ANd9GcR_17Uud4x9SR7QgudZ--5gXbX2DlWI_MOlW1BUsO6hBCK7EIBfmABlRTnXLxeltMctWDjjeo8&s'},\n",
       " {'title': 'Pittsburgh Data Jam Provides High School Students Data ...',\n",
       "  'media': 'HPCwire',\n",
       "  'date': '2020/05/01',\n",
       "  'desc': 'The Pittsburgh Data Jam is a unique one-of-its-kind analytics competition aimed at encouraging high school students to pursue careers in data science. The Data Jam introduces Pittsburgh High School students to big data and data analytics. It\\xa0...',\n",
       "  'link': 'https://www.hpcwire.com/off-the-wire/pittsburgh-data-jam-provides-high-school-students-data-science-opportunity-to-study-covid-19/',\n",
       "  'img': 'https://encrypted-tbn0.gstatic.com/images?q=tbn:ANd9GcTmMFjAU2xGoUa7Jgy0HCIOZp3Uo4zg36ZR7QoyPvEq5uSUdxEz1ak1_uO4Y98Q3SYCvp66PZk&s'},\n",
       " {'title': '2020 CRN Big Data 100: 10 Data Science and Machine ...',\n",
       "  'media': 'Solutions Review',\n",
       "  'date': '2020/05/01',\n",
       "  'desc': \"Dataiku offers an advanced analytics solution that allows organizations to create their own data tools. The company's flagship product features a team-based user interface for both data analysts and data scientists. Dataiku's unified framework for\\xa0...\",\n",
       "  'link': 'https://solutionsreview.com/business-intelligence/2020-crn-big-data-100-data-science-and-machine-learning-companies-to-consider/',\n",
       "  'img': 'https://encrypted-tbn0.gstatic.com/images?q=tbn:ANd9GcSnBiCh2YM3ybyOBk2nP0RmiPFp1TUc2LQPDMClcCx-jWry0yz68jX22G85GVm5Z_WxMOkSLvSa&s'},\n",
       " {'title': 'Best Practices For Virtual Data Science Interview',\n",
       "  'media': 'Analytics India Magazine',\n",
       "  'date': '2020/05/01',\n",
       "  'desc': 'Be Prepared. Being on a computer does not mean that one can access the internet mid-interview to try and look for answers. A data science interview will\\xa0...',\n",
       "  'link': 'https://analyticsindiamag.com/best-practices-for-virtual-data-science-interview/',\n",
       "  'img': 'data:image/gif;base64,R0lGODlhAQABAIAAAP///////yH5BAEKAAEALAAAAAABAAEAAAICTAEAOw=='},\n",
       " {'title': 'dunnhumby Launch “Customer First Retail and COVID-19 ...',\n",
       "  'media': 'Business Wire (press release)',\n",
       "  'date': '2020/05/01',\n",
       "  'desc': 'The dunnhumby Customer Data Science Platform is our unique mix of technology, software and consulting, enabling businesses to increase revenue and profits by delivering exceptional experiences for their Customers – in-store, offline and\\xa0...',\n",
       "  'link': 'https://www.businesswire.com/news/home/20200501005482/en/dunnhumby-Launch-%E2%80%9CCustomer-Retail-COVID-19%E2%80%9D-Webinar-Series',\n",
       "  'img': 'data:image/gif;base64,R0lGODlhAQABAIAAAP///////yH5BAEKAAEALAAAAAABAAEAAAICTAEAOw=='},\n",
       " {'title': \"Learning Data Science Online For The First Time? Here's How ...\",\n",
       "  'media': 'Analytics India Magazine',\n",
       "  'date': '2020/05/01',\n",
       "  'desc': 'Additionally, many courses – especially those anchored around new technologies like data science and AI – many expect learners to implement certain prerequisites just to be eligible for the course. This may include knowledge or experience\\xa0...',\n",
       "  'link': 'https://analyticsindiamag.com/learning-data-science-online-for-the-first-time-heres-how-to-plan/',\n",
       "  'img': 'data:image/gif;base64,R0lGODlhAQABAIAAAP///////yH5BAEKAAEALAAAAAABAAEAAAICTAEAOw=='},\n",
       " {'title': 'Moving data science into production',\n",
       "  'media': 'Trade Channels',\n",
       "  'date': '2020/05/01',\n",
       "  'desc': 'Moving data science into production. Code. (Image: Stockfresh). With Integrated Deployment extensions, data scientists can capture entire KNIME workflows for\\xa0...',\n",
       "  'link': 'https://www.techcentral.ie/how-to-move-data-science-into-production/',\n",
       "  'img': 'data:image/gif;base64,R0lGODlhAQABAIAAAP///////yH5BAEKAAEALAAAAAABAAEAAAICTAEAOw=='},\n",
       " {'title': 'Data Science Strategies for Banks and Credit Unions During ...',\n",
       "  'media': 'The Predictive Analytics Times',\n",
       "  'date': '2020/05/01',\n",
       "  'desc': 'For more information on this topic, attend the virtual conference, Predictive Analytics World for Industry 4.0, May 31-June 4, 2020. So many things are changing rapidly as the world responds to the risk from coronavirus. We know that there is no\\xa0...',\n",
       "  'link': 'https://www.predictiveanalyticsworld.com/machinelearningtimes/data-science-strategies-for-banks-and-credit-unions-during-covid-19-and-beyond/11410/',\n",
       "  'img': ''},\n",
       " {'title': \"Data scientists' global battle to create air quality forecast ...\",\n",
       "  'media': 'International Environmental Technology',\n",
       "  'date': '2020/05/01',\n",
       "  'desc': \"The competition is organised by environmental scientists at the University of Birmingham and Makerere University, Kampala, in partnership with Zindi – Africa's largest data science competition platform focused on solving the continent's most\\xa0...\",\n",
       "  'link': 'https://www.envirotech-online.com/news/business-news/44/university-of-birmingham/data-scientistsrsquo-global-battle-to-create-air-quality-forecast-solution-for-uganda/52138',\n",
       "  'img': 'data:image/gif;base64,R0lGODlhAQABAIAAAP///////yH5BAEKAAEALAAAAAABAAEAAAICTAEAOw=='},\n",
       " {'title': \"R 4.0 Released – What's In It For Data Scientists\",\n",
       "  'media': 'Analytics India Magazine',\n",
       "  'date': '2020/05/01',\n",
       "  'desc': '0 that includes a number of intuitive features and updates. R is a popular and open-source language for statistical learning that has come in a long way over a few years to assist data scientists in their workflows\\xa0...',\n",
       "  'link': 'https://analyticsindiamag.com/r-4-0-released-whats-in-it-for-data-scientists/',\n",
       "  'img': 'data:image/gif;base64,R0lGODlhAQABAIAAAP///////yH5BAEKAAEALAAAAAABAAEAAAICTAEAOw=='}]"
      ]
     },
     "execution_count": 269,
     "metadata": {},
     "output_type": "execute_result"
    }
   ],
   "source": [
    "googlenews = GoogleNews(lang='en')\n",
    "googlenews.setperiod('d')\n",
    "googlenews = GoogleNews(start='05/01/2020',end='05/02/2020')\n",
    "googlenews.search('data science')\n",
    "googlenews.result()"
   ]
  },
  {
   "cell_type": "code",
   "execution_count": 270,
   "metadata": {},
   "outputs": [
    {
     "data": {
      "text/plain": [
       "10"
      ]
     },
     "execution_count": 270,
     "metadata": {},
     "output_type": "execute_result"
    }
   ],
   "source": [
    "len(googlenews.result())"
   ]
  },
  {
   "cell_type": "code",
   "execution_count": 272,
   "metadata": {},
   "outputs": [
    {
     "data": {
      "text/plain": [
       "{'title': 'Pittsburgh Data Jam Provides High School Students Data ...',\n",
       " 'media': 'HPCwire',\n",
       " 'date': '2020/05/01',\n",
       " 'desc': 'The Pittsburgh Data Jam is a unique one-of-its-kind analytics competition aimed at encouraging high school students to pursue careers in data science. The Data Jam introduces Pittsburgh High School students to big data and data analytics. It\\xa0...',\n",
       " 'link': 'https://www.hpcwire.com/off-the-wire/pittsburgh-data-jam-provides-high-school-students-data-science-opportunity-to-study-covid-19/',\n",
       " 'img': 'https://encrypted-tbn0.gstatic.com/images?q=tbn:ANd9GcTmMFjAU2xGoUa7Jgy0HCIOZp3Uo4zg36ZR7QoyPvEq5uSUdxEz1ak1_uO4Y98Q3SYCvp66PZk&s'}"
      ]
     },
     "execution_count": 272,
     "metadata": {},
     "output_type": "execute_result"
    }
   ],
   "source": [
    "googlenews.result()[1]"
   ]
  },
  {
   "cell_type": "code",
   "execution_count": 273,
   "metadata": {},
   "outputs": [
    {
     "name": "stdout",
     "output_type": "stream",
     "text": [
      "2020 CRN Big Data 100: 10 Data Science and Machine ...\n",
      "https://solutionsreview.com/business-intelligence/2020-crn-big-data-100-data-science-and-machine-learning-companies-to-consider/\n",
      "Dataiku offers an advanced analytics solution that allows organizations to create their own data tools. The company's flagship product features a team-based user interface for both data analysts and data scientists. Dataiku's unified framework for ...\n"
     ]
    }
   ],
   "source": [
    "i = 2\n",
    "print(googlenews.result()[i]['title'])\n",
    "print(googlenews.result()[i]['link'])\n",
    "print(googlenews.result()[i]['desc'])"
   ]
  },
  {
   "cell_type": "code",
   "execution_count": 256,
   "metadata": {},
   "outputs": [],
   "source": [
    "googlenews.clear()\n",
    "googlenews.getpage(2)"
   ]
  },
  {
   "cell_type": "code",
   "execution_count": 257,
   "metadata": {
    "scrolled": true
   },
   "outputs": [
    {
     "data": {
      "text/plain": [
       "[{'title': 'Data Scientist - Data Competence Center',\n",
       "  'media': 'The Business of Fashion',\n",
       "  'date': '17 時間前',\n",
       "  'desc': 'A Group Data Competence Center is being formed in the HQ organisation to welcome data scientists and incubate new projects. The Data Scientist will support data science initiatives across the Group in order to accelerate the implementation of\\xa0...',\n",
       "  'link': 'https://www.businessoffashion.com/careers/job/141046/data-scientist-data-competence-center/',\n",
       "  'img': 'https://encrypted-tbn0.gstatic.com/images?q=tbn:ANd9GcSfnlfXuAxzUJxcdRwv_C1yD6_lvcd3Re6x4V0dTe0D3rDJ9jG5EW22Um_i-O3x33cEvk7AozsF&s'},\n",
       " {'title': 'Data Science Salon Launches Three Four-Day Verticalized ...',\n",
       "  'media': 'GlobeNewswire (press release)',\n",
       "  'date': '2020/06/02',\n",
       "  'desc': 'The virtual salons will include 30+ data science sessions crafted to bring specialists in each industry together to educate each other on innovative new solutions in artificial intelligence, machine learning, predictive analytics and best practices.',\n",
       "  'link': 'https://www.globenewswire.com/news-release/2020/06/02/2042157/0/en/Data-Science-Salon-Launches-Three-Four-Day-Verticalized-Virtual-Salons.html',\n",
       "  'img': ''},\n",
       " {'title': 'Top 10 Universities in USA Offering Ph.D In Data Science',\n",
       "  'media': 'Analytics Insight (press release) (blog)',\n",
       "  'date': '20 時間前',\n",
       "  'desc': 'Doctoral candidates pursuing the PhD in data science at Indiana University-Purdue must display competency in research, data analytics, and at management and infrastructure to earn the degree. The PhD is comprised of 24 credits of a data\\xa0...',\n",
       "  'link': 'https://www.analyticsinsight.net/top-10-universities-in-usa-offering-ph-d-in-data-science/',\n",
       "  'img': 'https://encrypted-tbn0.gstatic.com/images?q=tbn:ANd9GcQvbLOxVjXgCAmfcumUQCt5GnWZ7Qnj9SyxU9pe1VOuNFCYHEoumNVpGWQfcBB-mw1AYWvybleY&s'},\n",
       " {'title': 'The Blend of Data Science and Art of Persuasion',\n",
       "  'media': 'Analytics Insight (press release) (blog)',\n",
       "  'date': '2020/06/02',\n",
       "  'desc': 'Data science is growing up quickly. In recent years organizations have contributed billions to get the most-gifted data scientists to open for business, gather zettabytes of material and run it through their deduction machines to discover signals\\xa0...',\n",
       "  'link': 'https://www.analyticsinsight.net/the-blend-of-data-science-and-art-of-persuasion/',\n",
       "  'img': 'data:image/gif;base64,R0lGODlhAQABAIAAAP///////yH5BAEKAAEALAAAAAABAAEAAAICTAEAOw=='},\n",
       " {'title': 'Learn Python coding from engineers, data scientists, and ...',\n",
       "  'media': 'Mashable',\n",
       "  'date': '2020/06/02',\n",
       "  'desc': 'Learn Python coding from engineers, data scientists, and other experts. Products featured here are selected by our partners at StackCommerce.If you buy something through links on our site, Mashable may earn\\xa0...',\n",
       "  'link': 'https://mashable.com/shopping/june-2-python-certification-bundle-sale/',\n",
       "  'img': 'data:image/gif;base64,R0lGODlhAQABAIAAAP///////yH5BAEKAAEALAAAAAABAAEAAAICTAEAOw=='},\n",
       " {'title': \"How the UK's ad watchdog is using AI and data science to ...\",\n",
       "  'media': 'Marketing Week',\n",
       "  'date': '2020/06/02',\n",
       "  'desc': \"Artificial intelligence and data science will play a “vital” role in the way advertising is regulated in the UK in future, with the UK's ad watchdog investing heavily in technology that is able to tackle problem ads at scale and speed online.\",\n",
       "  'link': 'https://www.marketingweek.com/how-the-uks-ad-watchdog-is-using-ai-and-data-science-to-have-more-impact/',\n",
       "  'img': 'data:image/gif;base64,R0lGODlhAQABAIAAAP///////yH5BAEKAAEALAAAAAABAAEAAAICTAEAOw=='},\n",
       " {'title': 'Top 10 Data Science Salaries in India in June 2020',\n",
       "  'media': 'Analytics Insight (press release) (blog)',\n",
       "  'date': '2020/06/02',\n",
       "  'desc': 'A data scientist is an analytics expert responsible for collecting, cleansing and transforming data into invaluable insights. Often, data scientists began their careers as statisticians or data analysts. But with the evolution of big data, the roles of data\\xa0...',\n",
       "  'link': 'https://www.analyticsinsight.net/top-10-data-science-salaries-india-june-2020/',\n",
       "  'img': 'data:image/gif;base64,R0lGODlhAQABAIAAAP///////yH5BAEKAAEALAAAAAABAAEAAAICTAEAOw=='},\n",
       " {'title': 'What Is The Right Way To Interview Data Scientists During ...',\n",
       "  'media': 'Analytics India Magazine',\n",
       "  'date': '22 時間前',\n",
       "  'desc': 'In this article, we will take a few facets that data science recruiters may be missing in the hiring process. Evaluate Your Data Science Hiring Process. According to social media posts from data scientists, the large majority of companies that hire\\xa0...',\n",
       "  'link': 'https://analyticsindiamag.com/what-is-the-right-way-to-interview-data-scientists-during-the-hiring-process/',\n",
       "  'img': 'data:image/gif;base64,R0lGODlhAQABAIAAAP///////yH5BAEKAAEALAAAAAABAAEAAAICTAEAOw=='},\n",
       " {'title': 'Identifying the Cognitive Biases Prevalent in Data Science',\n",
       "  'media': 'Analytics Insight (press release) (blog)',\n",
       "  'date': '2020/06/02',\n",
       "  'desc': 'Every technology enthusiast is aware of how data science techniques have enabled integration of different kinds of data into providing a deeper understanding of the world and functioning of its elements. From dealing with insights for better\\xa0...',\n",
       "  'link': 'https://www.analyticsinsight.net/identifying-cognitive-biases-prevalent-data-science/',\n",
       "  'img': 'data:image/gif;base64,R0lGODlhAQABAIAAAP///////yH5BAEKAAEALAAAAAABAAEAAAICTAEAOw=='},\n",
       " {'title': 'How Is Chartered Data Scientist Program Different From The ...',\n",
       "  'media': 'Analytics India Magazine',\n",
       "  'date': '2020/06/02',\n",
       "  'desc': 'What is Training and a Training Certificate? There are a number of training institutes available who are engaged in providing training to candidates in the field of data science. The candidates are trained\\xa0...',\n",
       "  'link': 'https://analyticsindiamag.com/how-is-chartered-data-scientist-program-different-from-the-data-science-training/',\n",
       "  'img': 'data:image/gif;base64,R0lGODlhAQABAIAAAP///////yH5BAEKAAEALAAAAAABAAEAAAICTAEAOw=='}]"
      ]
     },
     "execution_count": 257,
     "metadata": {},
     "output_type": "execute_result"
    }
   ],
   "source": [
    "googlenews.result()"
   ]
  },
  {
   "cell_type": "code",
   "execution_count": null,
   "metadata": {},
   "outputs": [],
   "source": []
  }
 ],
 "metadata": {
  "kernelspec": {
   "display_name": "Python 3",
   "language": "python",
   "name": "python3"
  },
  "language_info": {
   "codemirror_mode": {
    "name": "ipython",
    "version": 3
   },
   "file_extension": ".py",
   "mimetype": "text/x-python",
   "name": "python",
   "nbconvert_exporter": "python",
   "pygments_lexer": "ipython3",
   "version": "3.7.3"
  }
 },
 "nbformat": 4,
 "nbformat_minor": 2
}
